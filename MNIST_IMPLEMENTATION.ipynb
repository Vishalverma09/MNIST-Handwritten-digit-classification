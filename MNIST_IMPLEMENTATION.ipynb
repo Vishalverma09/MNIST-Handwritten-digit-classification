{
  "cells": [
    {
      "cell_type": "markdown",
      "metadata": {
        "id": "view-in-github",
        "colab_type": "text"
      },
      "source": [
        "<a href=\"https://colab.research.google.com/github/Vishalverma09/MNIST-Handwritten-digit-classification/blob/main/MNIST_IMPLEMENTATION.ipynb\" target=\"_parent\"><img src=\"https://colab.research.google.com/assets/colab-badge.svg\" alt=\"Open In Colab\"/></a>"
      ]
    },
    {
      "cell_type": "code",
      "execution_count": null,
      "metadata": {
        "id": "bem2tXWAVh3j"
      },
      "outputs": [],
      "source": [
        "import tensorflow as tf\n",
        "tf.random.set_seed(42)"
      ]
    },
    {
      "cell_type": "code",
      "execution_count": null,
      "metadata": {
        "id": "4o6QS1kLWYVQ",
        "colab": {
          "base_uri": "https://localhost:8080/"
        },
        "outputId": "a66a7e49-dde1-4b9e-97bb-34d7db5b160e"
      },
      "outputs": [
        {
          "output_type": "stream",
          "name": "stdout",
          "text": [
            "Downloading data from https://storage.googleapis.com/tensorflow/tf-keras-datasets/mnist.npz\n",
            "11490434/11490434 [==============================] - 0s 0us/step\n"
          ]
        }
      ],
      "source": [
        "#loading dataset\n",
        "(xtrain,ytrain),(xtest,ytest)= tf.keras.datasets.mnist.load_data()"
      ]
    },
    {
      "cell_type": "code",
      "execution_count": null,
      "metadata": {
        "colab": {
          "base_uri": "https://localhost:8080/"
        },
        "id": "UgXlHONdXRoU",
        "outputId": "a8ce317f-0f27-450e-b8a8-00a0f0ee40e0"
      },
      "outputs": [
        {
          "output_type": "execute_result",
          "data": {
            "text/plain": [
              "(60000, 28, 28)"
            ]
          },
          "metadata": {},
          "execution_count": 3
        }
      ],
      "source": [
        "#checking the shape of dataset98\n",
        "xtrain.shape"
      ]
    },
    {
      "cell_type": "code",
      "execution_count": null,
      "metadata": {
        "colab": {
          "base_uri": "https://localhost:8080/"
        },
        "id": "xHUvqoazXXnd",
        "outputId": "9c915510-2eb1-4074-b195-17ca5e7c9c2e"
      },
      "outputs": [
        {
          "output_type": "execute_result",
          "data": {
            "text/plain": [
              "(10000, 28, 28)"
            ]
          },
          "metadata": {},
          "execution_count": 4
        }
      ],
      "source": [
        "#checking the shape of dataset\n",
        "xtest.shape"
      ]
    },
    {
      "cell_type": "code",
      "execution_count": null,
      "metadata": {
        "colab": {
          "base_uri": "https://localhost:8080/"
        },
        "id": "bbVvZ09sXjL7",
        "outputId": "b0752e7e-e87f-4bbe-f2ba-736532a8c1a2"
      },
      "outputs": [
        {
          "output_type": "execute_result",
          "data": {
            "text/plain": [
              "(10000,)"
            ]
          },
          "metadata": {},
          "execution_count": 5
        }
      ],
      "source": [
        "#checking the shape of dataset\n",
        "ytest.shape"
      ]
    },
    {
      "cell_type": "code",
      "execution_count": null,
      "metadata": {
        "id": "rKKxqST2XnLk"
      },
      "outputs": [],
      "source": [
        "#changing label data from 1 class to 10 classes bcoz output will be on the basis of 10 classes,i.e,0-9\n",
        "ytrain=tf.keras.utils.to_categorical(ytrain,num_classes=10)\n",
        "ytest=tf.keras.utils.to_categorical(ytest,num_classes=10)"
      ]
    },
    {
      "cell_type": "code",
      "execution_count": null,
      "metadata": {
        "colab": {
          "base_uri": "https://localhost:8080/"
        },
        "id": "5nwdurYBXqDB",
        "outputId": "17d6f6ac-b93c-4081-c95a-63646826c503"
      },
      "outputs": [
        {
          "output_type": "execute_result",
          "data": {
            "text/plain": [
              "(10000, 10)"
            ]
          },
          "metadata": {},
          "execution_count": 7
        }
      ],
      "source": [
        "ytest.shape"
      ]
    },
    {
      "cell_type": "code",
      "execution_count": null,
      "metadata": {
        "colab": {
          "base_uri": "https://localhost:8080/"
        },
        "id": "HBpNg45HXvwa",
        "outputId": "a2b2dc8e-1446-406e-f5fc-315c7fc66496"
      },
      "outputs": [
        {
          "output_type": "execute_result",
          "data": {
            "text/plain": [
              "(60000, 10)"
            ]
          },
          "metadata": {},
          "execution_count": 8
        }
      ],
      "source": [
        "ytrain.shape"
      ]
    },
    {
      "cell_type": "code",
      "execution_count": null,
      "metadata": {
        "id": "D0uxxFrOXzvI"
      },
      "outputs": [],
      "source": [
        "#building the graph/model\n",
        "model=tf.keras.Sequential()\n",
        "model.add(tf.keras.layers.Reshape((784,) , input_shape=(28,28,)))\n",
        "model.add(tf.keras.layers.BatchNormalization())"
      ]
    },
    {
      "cell_type": "code",
      "execution_count": null,
      "metadata": {
        "id": "uSaGW-xcX4Zs"
      },
      "outputs": [],
      "source": [
        "#adding hidden layers\n",
        "model.add(tf.keras.layers.Dense(200,activation='sigmoid'))\n",
        "model.add(tf.keras.layers.Dense(100,activation='sigmoid'))\n",
        "model.add(tf.keras.layers.Dense(60,activation='sigmoid'))\n",
        "model.add(tf.keras.layers.Dense(30,activation='sigmoid'))\n",
        "model.add(tf.keras.layers.Dense(10,activation='softmax'))"
      ]
    },
    {
      "cell_type": "code",
      "execution_count": null,
      "metadata": {
        "id": "LxjXvlnkX8x2"
      },
      "outputs": [],
      "source": [
        "#compiling the model\n",
        "model.compile(optimizer='sgd',loss='categorical_crossentropy',metrics=['accuracy'])"
      ]
    },
    {
      "cell_type": "code",
      "execution_count": null,
      "metadata": {
        "colab": {
          "base_uri": "https://localhost:8080/"
        },
        "id": "2SF1NL96YBBP",
        "outputId": "f4008bd1-6c47-4223-934e-2032c463ea1e"
      },
      "outputs": [
        {
          "output_type": "stream",
          "name": "stdout",
          "text": [
            "Epoch 1/30\n",
            "2000/2000 [==============================] - 16s 7ms/step - loss: 2.3042 - accuracy: 0.1144 - val_loss: 2.2965 - val_accuracy: 0.1042\n",
            "Epoch 2/30\n",
            "2000/2000 [==============================] - 15s 8ms/step - loss: 2.2937 - accuracy: 0.1321 - val_loss: 2.2894 - val_accuracy: 0.2015\n",
            "Epoch 3/30\n",
            "2000/2000 [==============================] - 14s 7ms/step - loss: 2.2843 - accuracy: 0.1508 - val_loss: 2.2753 - val_accuracy: 0.2303\n",
            "Epoch 4/30\n",
            "2000/2000 [==============================] - 14s 7ms/step - loss: 2.2623 - accuracy: 0.2332 - val_loss: 2.2390 - val_accuracy: 0.3614\n",
            "Epoch 5/30\n",
            "2000/2000 [==============================] - 14s 7ms/step - loss: 2.1838 - accuracy: 0.3313 - val_loss: 2.0820 - val_accuracy: 0.3593\n",
            "Epoch 6/30\n",
            "2000/2000 [==============================] - 14s 7ms/step - loss: 1.8767 - accuracy: 0.3931 - val_loss: 1.6277 - val_accuracy: 0.4443\n",
            "Epoch 7/30\n",
            "2000/2000 [==============================] - 15s 8ms/step - loss: 1.4800 - accuracy: 0.4742 - val_loss: 1.3358 - val_accuracy: 0.5181\n",
            "Epoch 8/30\n",
            "2000/2000 [==============================] - 14s 7ms/step - loss: 1.2578 - accuracy: 0.5575 - val_loss: 1.1410 - val_accuracy: 0.6104\n",
            "Epoch 9/30\n",
            "2000/2000 [==============================] - 14s 7ms/step - loss: 1.0863 - accuracy: 0.6345 - val_loss: 0.9790 - val_accuracy: 0.6792\n",
            "Epoch 10/30\n",
            "2000/2000 [==============================] - 14s 7ms/step - loss: 0.9462 - accuracy: 0.6857 - val_loss: 0.8483 - val_accuracy: 0.7291\n",
            "Epoch 11/30\n",
            "2000/2000 [==============================] - 14s 7ms/step - loss: 0.8477 - accuracy: 0.7263 - val_loss: 0.7588 - val_accuracy: 0.7696\n",
            "Epoch 12/30\n",
            "2000/2000 [==============================] - 14s 7ms/step - loss: 0.7695 - accuracy: 0.7634 - val_loss: 0.6874 - val_accuracy: 0.8024\n",
            "Epoch 13/30\n",
            "2000/2000 [==============================] - 14s 7ms/step - loss: 0.7026 - accuracy: 0.7908 - val_loss: 0.6210 - val_accuracy: 0.8375\n",
            "Epoch 14/30\n",
            "2000/2000 [==============================] - 14s 7ms/step - loss: 0.6520 - accuracy: 0.8103 - val_loss: 0.5684 - val_accuracy: 0.8514\n",
            "Epoch 15/30\n",
            "2000/2000 [==============================] - 13s 7ms/step - loss: 0.5993 - accuracy: 0.8304 - val_loss: 0.5191 - val_accuracy: 0.8640\n",
            "Epoch 16/30\n",
            "2000/2000 [==============================] - 14s 7ms/step - loss: 0.5555 - accuracy: 0.8436 - val_loss: 0.4775 - val_accuracy: 0.8752\n",
            "Epoch 17/30\n",
            "2000/2000 [==============================] - 14s 7ms/step - loss: 0.5135 - accuracy: 0.8570 - val_loss: 0.4398 - val_accuracy: 0.8879\n",
            "Epoch 18/30\n",
            "2000/2000 [==============================] - 16s 8ms/step - loss: 0.4742 - accuracy: 0.8677 - val_loss: 0.4070 - val_accuracy: 0.8944\n",
            "Epoch 19/30\n",
            "2000/2000 [==============================] - 14s 7ms/step - loss: 0.4423 - accuracy: 0.8771 - val_loss: 0.3798 - val_accuracy: 0.9013\n",
            "Epoch 20/30\n",
            "2000/2000 [==============================] - 14s 7ms/step - loss: 0.4163 - accuracy: 0.8851 - val_loss: 0.3577 - val_accuracy: 0.9067\n",
            "Epoch 21/30\n",
            "2000/2000 [==============================] - 14s 7ms/step - loss: 0.3911 - accuracy: 0.8909 - val_loss: 0.3378 - val_accuracy: 0.9097\n",
            "Epoch 22/30\n",
            "2000/2000 [==============================] - 14s 7ms/step - loss: 0.3759 - accuracy: 0.8941 - val_loss: 0.3227 - val_accuracy: 0.9137\n",
            "Epoch 23/30\n",
            "2000/2000 [==============================] - 14s 7ms/step - loss: 0.3575 - accuracy: 0.9008 - val_loss: 0.3091 - val_accuracy: 0.9160\n",
            "Epoch 24/30\n",
            "2000/2000 [==============================] - 14s 7ms/step - loss: 0.3392 - accuracy: 0.9055 - val_loss: 0.2990 - val_accuracy: 0.9181\n",
            "Epoch 25/30\n",
            "2000/2000 [==============================] - 14s 7ms/step - loss: 0.3260 - accuracy: 0.9079 - val_loss: 0.2884 - val_accuracy: 0.9230\n",
            "Epoch 26/30\n",
            "2000/2000 [==============================] - 14s 7ms/step - loss: 0.3178 - accuracy: 0.9094 - val_loss: 0.2817 - val_accuracy: 0.9254\n",
            "Epoch 27/30\n",
            "2000/2000 [==============================] - 15s 8ms/step - loss: 0.3013 - accuracy: 0.9157 - val_loss: 0.2699 - val_accuracy: 0.9272\n",
            "Epoch 28/30\n",
            "2000/2000 [==============================] - 15s 7ms/step - loss: 0.2905 - accuracy: 0.9191 - val_loss: 0.2618 - val_accuracy: 0.9305\n",
            "Epoch 29/30\n",
            "2000/2000 [==============================] - 15s 7ms/step - loss: 0.2784 - accuracy: 0.9228 - val_loss: 0.2488 - val_accuracy: 0.9333\n",
            "Epoch 30/30\n",
            "2000/2000 [==============================] - 14s 7ms/step - loss: 0.2659 - accuracy: 0.9262 - val_loss: 0.2433 - val_accuracy: 0.9369\n"
          ]
        },
        {
          "output_type": "execute_result",
          "data": {
            "text/plain": [
              "<keras.callbacks.History at 0x7fa9fd695930>"
            ]
          },
          "metadata": {},
          "execution_count": 12
        }
      ],
      "source": [
        "#training the model\n",
        "model.fit(xtrain,ytrain, validation_data=(xtest,ytest),epochs=30,batch_size=30)"
      ]
    },
    {
      "cell_type": "markdown",
      "metadata": {
        "id": "R1GjUGlBrf19"
      },
      "source": [
        "# New section"
      ]
    },
    {
      "cell_type": "code",
      "source": [
        "score = model.evaluate(xtrain,ytrain,verbose=0)\n",
        "print('Test loss',score[0])\n",
        "print('Test acuracy',score[1])"
      ],
      "metadata": {
        "colab": {
          "base_uri": "https://localhost:8080/"
        },
        "id": "t-06zlhWpYHv",
        "outputId": "5228b4f9-b245-4f48-d38a-96fc373575fc"
      },
      "execution_count": null,
      "outputs": [
        {
          "output_type": "stream",
          "name": "stdout",
          "text": [
            "Test loss 0.22556105256080627\n",
            "Test acuracy 0.9401666522026062\n"
          ]
        }
      ]
    },
    {
      "cell_type": "code",
      "execution_count": null,
      "metadata": {
        "id": "jxn6CJQrZkDY"
      },
      "outputs": [],
      "source": [
        "model.save('/content/mnist_classification_dnn.h5')"
      ]
    },
    {
      "cell_type": "code",
      "execution_count": null,
      "metadata": {
        "colab": {
          "base_uri": "https://localhost:8080/"
        },
        "id": "eBd2N_EiZurb",
        "outputId": "a4d6572b-64ce-4c7d-8c22-6e36d18e3536"
      },
      "outputs": [
        {
          "output_type": "execute_result",
          "data": {
            "text/plain": [
              "(1, 28, 28)"
            ]
          },
          "metadata": {},
          "execution_count": 15
        }
      ],
      "source": [
        "##changing dimensions according to the models requirement using numpy\n",
        "import numpy as np\n",
        "np.expand_dims(xtest[0],axis=0).shape"
      ]
    },
    {
      "cell_type": "code",
      "execution_count": null,
      "metadata": {
        "id": "a0c4jcqwZwsk",
        "colab": {
          "base_uri": "https://localhost:8080/"
        },
        "outputId": "266ac029-ed51-4c49-b729-22b48b76c74e"
      },
      "outputs": [
        {
          "output_type": "stream",
          "name": "stdout",
          "text": [
            "1/1 [==============================] - 0s 241ms/step\n"
          ]
        }
      ],
      "source": [
        "#predicting value\n",
        "prediction=model.predict(xtest[0:9])"
      ]
    },
    {
      "cell_type": "code",
      "execution_count": null,
      "metadata": {
        "colab": {
          "base_uri": "https://localhost:8080/",
          "height": 447
        },
        "id": "1ZI2X9XAZ5OW",
        "outputId": "7c68d05e-781a-41f8-af90-9b490ee9a41b"
      },
      "outputs": [
        {
          "output_type": "execute_result",
          "data": {
            "text/plain": [
              "<matplotlib.image.AxesImage at 0x7fa9eb95ab60>"
            ]
          },
          "metadata": {},
          "execution_count": 17
        },
        {
          "output_type": "display_data",
          "data": {
            "text/plain": [
              "<Figure size 640x480 with 1 Axes>"
            ],
            "image/png": "[encoded data removed]"
          },
          "metadata": {}
        }
      ],
      "source": [
        "import matplotlib.pyplot as plt\n",
        "plt.imshow(xtest[7],cmap='gray')"
      ]
    },
    {
      "cell_type": "code",
      "execution_count": null,
      "metadata": {
        "colab": {
          "base_uri": "https://localhost:8080/"
        },
        "id": "ynoTmQowZ7Sz",
        "outputId": "38576200-29aa-4e88-add2-ece5623e2d2a"
      },
      "outputs": [
        {
          "output_type": "stream",
          "name": "stdout",
          "text": [
            "9\n"
          ]
        }
      ],
      "source": [
        "#predicted number\n",
        "predicted_num=np.argmax(prediction[7])\n",
        "\n",
        "print(predicted_num)"
      ]
    }
  ],
  "metadata": {
    "colab": {
      "provenance": [],
      "authorship_tag": "ABX9TyMPFntRTRbP1Z217it1Vgbd",
      "include_colab_link": true
    },
    "kernelspec": {
      "display_name": "Python 3",
      "name": "python3"
    },
    "language_info": {
      "name": "python"
    }
  },
  "nbformat": 4,
  "nbformat_minor": 0
}